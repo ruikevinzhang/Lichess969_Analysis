{
 "cells": [
  {
   "cell_type": "code",
   "execution_count": 1,
   "metadata": {},
   "outputs": [],
   "source": [
    "from pyspark.sql import SparkSession\n",
    "import pandas as pd"
   ]
  },
  {
   "cell_type": "code",
   "execution_count": 2,
   "metadata": {},
   "outputs": [],
   "source": [
    "import numpy as py\n",
    "import re\n",
    "from pyspark.sql.types import Row"
   ]
  },
  {
   "cell_type": "code",
   "execution_count": 3,
   "metadata": {},
   "outputs": [],
   "source": [
    "import pyspark.sql.functions as fn "
   ]
  },
  {
   "cell_type": "code",
   "execution_count": 4,
   "metadata": {},
   "outputs": [],
   "source": [
    "spark = SparkSession \\\n",
    "    .builder \\\n",
    "    .appName(\"PySpark assignment\") \\\n",
    "    .getOrCreate()"
   ]
  },
  {
   "cell_type": "code",
   "execution_count": 5,
   "metadata": {},
   "outputs": [],
   "source": [
    "spark.sparkContext._jsc.hadoopConfiguration().set('textinputformat.record.delimiter', '[Event ')"
   ]
  },
  {
   "cell_type": "code",
   "execution_count": 25,
   "metadata": {},
   "outputs": [],
   "source": [
    "rdd = spark.sparkContext.textFile('lichess_db_chess960_rated_2020-12.pgn')"
   ]
  },
  {
   "cell_type": "code",
   "execution_count": 26,
   "metadata": {},
   "outputs": [],
   "source": [
    "# url = \"https://database.lichess.org/chess960/lichess_db_chess960_rated_2020-12.pgn.bz2\"\n",
    "# rdd =spark.sparkContext.addFile(url)"
   ]
  },
  {
   "cell_type": "code",
   "execution_count": 27,
   "metadata": {},
   "outputs": [],
   "source": [
    "#rdd.take(10)"
   ]
  },
  {
   "cell_type": "code",
   "execution_count": 28,
   "metadata": {},
   "outputs": [],
   "source": [
    "#rdd.filter(lambda x: len(x) > 0).map(lambda x: '[Event ' +x).take(1)"
   ]
  },
  {
   "cell_type": "code",
   "execution_count": 29,
   "metadata": {},
   "outputs": [],
   "source": [
    "rdd = rdd.filter(lambda x: len(x) > 0).map(lambda x: '[Event '+ x)"
   ]
  },
  {
   "cell_type": "code",
   "execution_count": 30,
   "metadata": {},
   "outputs": [],
   "source": [
    "def parse_pgn(pgn):\n",
    "    # Do some Python to turn our PGN into a Row\n",
    "    # Regular expression \n",
    "    string = pgn\n",
    "    # note: regular expression '.*' -> any thing for any number of times\n",
    "    f = re.search(r'\\[FEN \"(.*)\"\\]',string)\n",
    "    w = re.search(r'\\[WhiteElo \"(.*)\"\\]',string)\n",
    "    b = re.search(r'\\[BlackElo \"(.*)\"\\]',string)\n",
    "    #d = re.search(r'\\[WhiteRatingDiff \"(.*)\"\\]',string)\n",
    "    r = re.search(r'\\[Result \"(.*)\"\\]',string)\n",
    "    if f and w and b and r:\n",
    "        return Row(FEN = f.groups()[0],White_Rating = w.groups()[0], Black_Rating = b.groups()[0], Result = r.groups()[0]) \n",
    "    else:\n",
    "        return None  \n",
    "    \n",
    "    \n",
    "\n"
   ]
  },
  {
   "cell_type": "code",
   "execution_count": 31,
   "metadata": {},
   "outputs": [],
   "source": [
    "df = rdd.map(parse_pgn).toDF()"
   ]
  },
  {
   "cell_type": "code",
   "execution_count": 32,
   "metadata": {},
   "outputs": [],
   "source": [
    "def percentageSummary (df,lowerRate=0,upperRate=0):\n",
    "    # filter the ranking \n",
    "    if upperRate == 0:\n",
    "        dfRate = df.filter(df.White_Rating >lowerRate).filter(df.Black_Rating >lowerRate)\n",
    "    elif lowerRate == 0 and upperRate == 0:\n",
    "        dfRate = df\n",
    "    else:\n",
    "        dfRate = df.filter(df.White_Rating.between(lowerRate,upperRate)).filter(df.Black_Rating.between(lowerRate,upperRate))\n",
    "    \n",
    "    \n",
    "    #compute the total count of Games\n",
    "    dfTotal = dfRate.groupBy('FEN').count().sort('count', ascending =False)\n",
    "    dfTotal = dfTotal.withColumnRenamed(\"count\",\"Total\")\n",
    "    \n",
    "    \n",
    "    #comput the count for White winning\n",
    "    dfCount = dfRate.filter(dfRate.Result == '1-0').groupBy('FEN').count().sort('count', ascending =False)\n",
    "    dfCount = dfCount.withColumnRenamed(\"count\",\"WhiteWin\")\n",
    "\n",
    "    #merge/join the two df on FEN number\n",
    "    dfNew = dfCount.join(dfTotal, on=['FEN'], how='left_outer')\n",
    "    \n",
    "    dfNew = dfNew\\\n",
    "        .withColumn('%', fn.expr('WhiteWin/Total'))\\\n",
    "        .sort('%', ascending =False)\n",
    "    \n",
    "    return dfNew"
   ]
  },
  {
   "cell_type": "code",
   "execution_count": 33,
   "metadata": {},
   "outputs": [
    {
     "name": "stdout",
     "output_type": "stream",
     "text": [
      "+--------------------------------------------------------+--------+-----+---+\n",
      "|FEN                                                     |WhiteWin|Total|%  |\n",
      "+--------------------------------------------------------+--------+-----+---+\n",
      "|rqkbbnnr/pppppppp/8/8/8/8/PPPPPPPP/RQKBBNNR w KQkq - 0 1|2       |2    |1.0|\n",
      "|nnrkbbrq/pppppppp/8/8/8/8/PPPPPPPP/NNRKBBRQ w KQkq - 0 1|1       |1    |1.0|\n",
      "|nrkbnqbr/pppppppp/8/8/8/8/PPPPPPPP/NRKBNQBR w KQkq - 0 1|1       |1    |1.0|\n",
      "|nqrbnkbr/pppppppp/8/8/8/8/PPPPPPPP/NQRBNKBR w KQkq - 0 1|1       |1    |1.0|\n",
      "|bnnrkqrb/pppppppp/8/8/8/8/PPPPPPPP/BNNRKQRB w KQkq - 0 1|1       |1    |1.0|\n",
      "|rkrbbqnn/pppppppp/8/8/8/8/PPPPPPPP/RKRBBQNN w KQkq - 0 1|1       |1    |1.0|\n",
      "|bnrnkqrb/pppppppp/8/8/8/8/PPPPPPPP/BNRNKQRB w KQkq - 0 1|1       |1    |1.0|\n",
      "|rknrbqnb/pppppppp/8/8/8/8/PPPPPPPP/RKNRBQNB w KQkq - 0 1|1       |1    |1.0|\n",
      "|nrbknbqr/pppppppp/8/8/8/8/PPPPPPPP/NRBKNBQR w KQkq - 0 1|1       |1    |1.0|\n",
      "|bbrknrqn/pppppppp/8/8/8/8/PPPPPPPP/BBRKNRQN w KQkq - 0 1|1       |1    |1.0|\n",
      "|rkrqnnbb/pppppppp/8/8/8/8/PPPPPPPP/RKRQNNBB w KQkq - 0 1|3       |3    |1.0|\n",
      "|nnqrbkrb/pppppppp/8/8/8/8/PPPPPPPP/NNQRBKRB w KQkq - 0 1|2       |2    |1.0|\n",
      "|qrnbknbr/pppppppp/8/8/8/8/PPPPPPPP/QRNBKNBR w KQkq - 0 1|1       |1    |1.0|\n",
      "|rkbqnbnr/pppppppp/8/8/8/8/PPPPPPPP/RKBQNBNR w KQkq - 0 1|1       |1    |1.0|\n",
      "|rnqkbnrb/pppppppp/8/8/8/8/PPPPPPPP/RNQKBNRB w KQkq - 0 1|1       |1    |1.0|\n",
      "|rqbnnbkr/pppppppp/8/8/8/8/PPPPPPPP/RQBNNBKR w KQkq - 0 1|1       |1    |1.0|\n",
      "|qrbbnknr/pppppppp/8/8/8/8/PPPPPPPP/QRBBNKNR w KQkq - 0 1|2       |2    |1.0|\n",
      "|qnrnbbkr/pppppppp/8/8/8/8/PPPPPPPP/QNRNBBKR w KQkq - 0 1|1       |1    |1.0|\n",
      "|nbrnqkbr/pppppppp/8/8/8/8/PPPPPPPP/NBRNQKBR w KQkq - 0 1|1       |1    |1.0|\n",
      "|nrbbqknr/pppppppp/8/8/8/8/PPPPPPPP/NRBBQKNR w KQkq - 0 1|1       |1    |1.0|\n",
      "+--------------------------------------------------------+--------+-----+---+\n",
      "only showing top 20 rows\n",
      "\n"
     ]
    }
   ],
   "source": [
    "df_Under1200 = percentageSummary(df,0,1200)\n",
    "df_Under1200.show(truncate = False)"
   ]
  },
  {
   "cell_type": "code",
   "execution_count": 34,
   "metadata": {},
   "outputs": [
    {
     "name": "stdout",
     "output_type": "stream",
     "text": [
      "+--------------------------------------------------------+--------+-----+------------------+\n",
      "|FEN                                                     |WhiteWin|Total|%                 |\n",
      "+--------------------------------------------------------+--------+-----+------------------+\n",
      "|rnbnkbrq/pppppppp/8/8/8/8/PPPPPPPP/RNBNKBRQ w KQkq - 0 1|93      |148  |0.6283783783783784|\n",
      "|bbrkqnrn/pppppppp/8/8/8/8/PPPPPPPP/BBRKQNRN w KQkq - 0 1|88      |143  |0.6153846153846154|\n",
      "|brkbnrqn/pppppppp/8/8/8/8/PPPPPPPP/BRKBNRQN w KQkq - 0 1|85      |140  |0.6071428571428571|\n",
      "|bbnqnrkr/pppppppp/8/8/8/8/PPPPPPPP/BBNQNRKR w KQkq - 0 1|91      |150  |0.6066666666666667|\n",
      "|nrkbrqbn/pppppppp/8/8/8/8/PPPPPPPP/NRKBRQBN w KQkq - 0 1|93      |156  |0.5961538461538461|\n",
      "|qbrnbknr/pppppppp/8/8/8/8/PPPPPPPP/QBRNBKNR w KQkq - 0 1|93      |156  |0.5961538461538461|\n",
      "|rqkbrnbn/pppppppp/8/8/8/8/PPPPPPPP/RQKBRNBN w KQkq - 0 1|94      |160  |0.5875            |\n",
      "|qrbknrnb/pppppppp/8/8/8/8/PPPPPPPP/QRBKNRNB w KQkq - 0 1|92      |157  |0.5859872611464968|\n",
      "|qbnrknbr/pppppppp/8/8/8/8/PPPPPPPP/QBNRKNBR w KQkq - 0 1|92      |157  |0.5859872611464968|\n",
      "|qrnknrbb/pppppppp/8/8/8/8/PPPPPPPP/QRNKNRBB w KQkq - 0 1|73      |125  |0.584             |\n",
      "|nrqbnkbr/pppppppp/8/8/8/8/PPPPPPPP/NRQBNKBR w KQkq - 0 1|96      |165  |0.5818181818181818|\n",
      "|brnnqkrb/pppppppp/8/8/8/8/PPPPPPPP/BRNNQKRB w KQkq - 0 1|99      |171  |0.5789473684210527|\n",
      "|qnbnrbkr/pppppppp/8/8/8/8/PPPPPPPP/QNBNRBKR w KQkq - 0 1|87      |151  |0.5761589403973509|\n",
      "|nrbbkqrn/pppppppp/8/8/8/8/PPPPPPPP/NRBBKQRN w KQkq - 0 1|91      |158  |0.5759493670886076|\n",
      "|bqrnnbkr/pppppppp/8/8/8/8/PPPPPPPP/BQRNNBKR w KQkq - 0 1|74      |129  |0.5736434108527132|\n",
      "|rknbrnbq/pppppppp/8/8/8/8/PPPPPPPP/RKNBRNBQ w KQkq - 0 1|78      |136  |0.5735294117647058|\n",
      "|nbqrbknr/pppppppp/8/8/8/8/PPPPPPPP/NBQRBKNR w KQkq - 0 1|78      |136  |0.5735294117647058|\n",
      "|nnbbqrkr/pppppppp/8/8/8/8/PPPPPPPP/NNBBQRKR w KQkq - 0 1|79      |138  |0.572463768115942 |\n",
      "|brnbqkrn/pppppppp/8/8/8/8/PPPPPPPP/BRNBQKRN w KQkq - 0 1|87      |152  |0.5723684210526315|\n",
      "|rnqnkrbb/pppppppp/8/8/8/8/PPPPPPPP/RNQNKRBB w KQkq - 0 1|91      |159  |0.5723270440251572|\n",
      "+--------------------------------------------------------+--------+-----+------------------+\n",
      "only showing top 20 rows\n",
      "\n"
     ]
    }
   ],
   "source": [
    "df_1200To1800 = percentageSummary(df,1200,1800)\n",
    "df_1200To1800.show(truncate = False)"
   ]
  },
  {
   "cell_type": "code",
   "execution_count": 35,
   "metadata": {},
   "outputs": [
    {
     "name": "stdout",
     "output_type": "stream",
     "text": [
      "+--------------------------------------------------------+--------+-----+------------------+\n",
      "|FEN                                                     |WhiteWin|Total|%                 |\n",
      "+--------------------------------------------------------+--------+-----+------------------+\n",
      "|rkrqbnnb/pppppppp/8/8/8/8/PPPPPPPP/RKRQBNNB w KQkq - 0 1|39      |58   |0.6724137931034483|\n",
      "|brnqkbrn/pppppppp/8/8/8/8/PPPPPPPP/BRNQKBRN w KQkq - 0 1|38      |58   |0.6551724137931034|\n",
      "|nrkbbnqr/pppppppp/8/8/8/8/PPPPPPPP/NRKBBNQR w KQkq - 0 1|41      |63   |0.6507936507936508|\n",
      "|nqrbbkrn/pppppppp/8/8/8/8/PPPPPPPP/NQRBBKRN w KQkq - 0 1|35      |54   |0.6481481481481481|\n",
      "|nnbbrkqr/pppppppp/8/8/8/8/PPPPPPPP/NNBBRKQR w KQkq - 0 1|49      |76   |0.6447368421052632|\n",
      "|nrbkqbnr/pppppppp/8/8/8/8/PPPPPPPP/NRBKQBNR w KQkq - 0 1|29      |45   |0.6444444444444445|\n",
      "|bnrqnbkr/pppppppp/8/8/8/8/PPPPPPPP/BNRQNBKR w KQkq - 0 1|38      |59   |0.6440677966101694|\n",
      "|qnrbnkbr/pppppppp/8/8/8/8/PPPPPPPP/QNRBNKBR w KQkq - 0 1|36      |56   |0.6428571428571429|\n",
      "|qrkrnbbn/pppppppp/8/8/8/8/PPPPPPPP/QRKRNBBN w KQkq - 0 1|39      |61   |0.639344262295082 |\n",
      "|rkbnqrnb/pppppppp/8/8/8/8/PPPPPPPP/RKBNQRNB w KQkq - 0 1|46      |72   |0.6388888888888888|\n",
      "|nqrnkbbr/pppppppp/8/8/8/8/PPPPPPPP/NQRNKBBR w KQkq - 0 1|40      |63   |0.6349206349206349|\n",
      "|rkqbbrnn/pppppppp/8/8/8/8/PPPPPPPP/RKQBBRNN w KQkq - 0 1|38      |60   |0.6333333333333333|\n",
      "|rkrbbnqn/pppppppp/8/8/8/8/PPPPPPPP/RKRBBNQN w KQkq - 0 1|31      |49   |0.6326530612244898|\n",
      "|nqbbrkrn/pppppppp/8/8/8/8/PPPPPPPP/NQBBRKRN w KQkq - 0 1|36      |57   |0.631578947368421 |\n",
      "|qbrkbnrn/pppppppp/8/8/8/8/PPPPPPPP/QBRKBNRN w KQkq - 0 1|46      |73   |0.6301369863013698|\n",
      "|rbnnbqkr/pppppppp/8/8/8/8/PPPPPPPP/RBNNBQKR w KQkq - 0 1|42      |67   |0.6268656716417911|\n",
      "|rnqbknbr/pppppppp/8/8/8/8/PPPPPPPP/RNQBKNBR w KQkq - 0 1|42      |67   |0.6268656716417911|\n",
      "|rnknbrqb/pppppppp/8/8/8/8/PPPPPPPP/RNKNBRQB w KQkq - 0 1|30      |48   |0.625             |\n",
      "|bbqrnknr/pppppppp/8/8/8/8/PPPPPPPP/BBQRNKNR w KQkq - 0 1|38      |61   |0.6229508196721312|\n",
      "|nnrqbkrb/pppppppp/8/8/8/8/PPPPPPPP/NNRQBKRB w KQkq - 0 1|46      |74   |0.6216216216216216|\n",
      "+--------------------------------------------------------+--------+-----+------------------+\n",
      "only showing top 20 rows\n",
      "\n"
     ]
    }
   ],
   "source": [
    "df_1800To2200 = percentageSummary(df,1800,2200)\n",
    "df_1800To2200.show(truncate = False)"
   ]
  },
  {
   "cell_type": "code",
   "execution_count": 36,
   "metadata": {
    "scrolled": true
   },
   "outputs": [
    {
     "name": "stdout",
     "output_type": "stream",
     "text": [
      "+--------------------------------------------------------+--------+-----+---+\n",
      "|FEN                                                     |WhiteWin|Total|%  |\n",
      "+--------------------------------------------------------+--------+-----+---+\n",
      "|brnbnkqr/pppppppp/8/8/8/8/PPPPPPPP/BRNBNKQR w KQkq - 0 1|3       |3    |1.0|\n",
      "|nnrqkbbr/pppppppp/8/8/8/8/PPPPPPPP/NNRQKBBR w KQkq - 0 1|1       |1    |1.0|\n",
      "|nqbrkbnr/pppppppp/8/8/8/8/PPPPPPPP/NQBRKBNR w KQkq - 0 1|1       |1    |1.0|\n",
      "|nnrkbbrq/pppppppp/8/8/8/8/PPPPPPPP/NNRKBBRQ w KQkq - 0 1|2       |2    |1.0|\n",
      "|rbnnbqkr/pppppppp/8/8/8/8/PPPPPPPP/RBNNBQKR w KQkq - 0 1|1       |1    |1.0|\n",
      "|rbbnnqkr/pppppppp/8/8/8/8/PPPPPPPP/RBBNNQKR w KQkq - 0 1|2       |2    |1.0|\n",
      "|nrkbbqrn/pppppppp/8/8/8/8/PPPPPPPP/NRKBBQRN w KQkq - 0 1|1       |1    |1.0|\n",
      "|rkbqnbrn/pppppppp/8/8/8/8/PPPPPPPP/RKBQNBRN w KQkq - 0 1|1       |1    |1.0|\n",
      "|bbnqnrkr/pppppppp/8/8/8/8/PPPPPPPP/BBNQNRKR w KQkq - 0 1|1       |1    |1.0|\n",
      "|rnqknrbb/pppppppp/8/8/8/8/PPPPPPPP/RNQKNRBB w KQkq - 0 1|1       |1    |1.0|\n",
      "|rkqnbbrn/pppppppp/8/8/8/8/PPPPPPPP/RKQNBBRN w KQkq - 0 1|1       |1    |1.0|\n",
      "|qrnbnkbr/pppppppp/8/8/8/8/PPPPPPPP/QRNBNKBR w KQkq - 0 1|1       |1    |1.0|\n",
      "|brnbqkrn/pppppppp/8/8/8/8/PPPPPPPP/BRNBQKRN w KQkq - 0 1|3       |3    |1.0|\n",
      "|qnrkbrnb/pppppppp/8/8/8/8/PPPPPPPP/QNRKBRNB w KQkq - 0 1|2       |2    |1.0|\n",
      "|rkbbrqnn/pppppppp/8/8/8/8/PPPPPPPP/RKBBRQNN w KQkq - 0 1|1       |1    |1.0|\n",
      "|rnqkbnrb/pppppppp/8/8/8/8/PPPPPPPP/RNQKBNRB w KQkq - 0 1|2       |2    |1.0|\n",
      "|rqbnnbkr/pppppppp/8/8/8/8/PPPPPPPP/RQBNNBKR w KQkq - 0 1|2       |2    |1.0|\n",
      "|nnqrbkrb/pppppppp/8/8/8/8/PPPPPPPP/NNQRBKRB w KQkq - 0 1|2       |2    |1.0|\n",
      "|bbrnqnkr/pppppppp/8/8/8/8/PPPPPPPP/BBRNQNKR w KQkq - 0 1|2       |2    |1.0|\n",
      "|brqbnnkr/pppppppp/8/8/8/8/PPPPPPPP/BRQBNNKR w KQkq - 0 1|1       |1    |1.0|\n",
      "+--------------------------------------------------------+--------+-----+---+\n",
      "only showing top 20 rows\n",
      "\n"
     ]
    }
   ],
   "source": [
    "df_Over2200 = percentageSummary(df,2200,0)\n",
    "df_Over2200.show(truncate = False)"
   ]
  },
  {
   "cell_type": "code",
   "execution_count": 37,
   "metadata": {},
   "outputs": [
    {
     "name": "stdout",
     "output_type": "stream",
     "text": [
      "+--------------------------------------------------------+--------+-----+------------------+\n",
      "|FEN                                                     |WhiteWin|Total|%                 |\n",
      "+--------------------------------------------------------+--------+-----+------------------+\n",
      "|qrnknrbb/pppppppp/8/8/8/8/PPPPPPPP/QRNKNRBB w KQkq - 0 1|171     |291  |0.5876288659793815|\n",
      "|rkbrnnqb/pppppppp/8/8/8/8/PPPPPPPP/RKBRNNQB w KQkq - 0 1|182     |314  |0.5796178343949044|\n",
      "|qbnrnkbr/pppppppp/8/8/8/8/PPPPPPPP/QBNRNKBR w KQkq - 0 1|192     |334  |0.5748502994011976|\n",
      "|nrkbrqbn/pppppppp/8/8/8/8/PPPPPPPP/NRKBRQBN w KQkq - 0 1|175     |307  |0.5700325732899023|\n",
      "|qbrkbnrn/pppppppp/8/8/8/8/PPPPPPPP/QBRKBNRN w KQkq - 0 1|174     |307  |0.5667752442996743|\n",
      "|nbbqnrkr/pppppppp/8/8/8/8/PPPPPPPP/NBBQNRKR w KQkq - 0 1|187     |330  |0.5666666666666667|\n",
      "|brkbnrqn/pppppppp/8/8/8/8/PPPPPPPP/BRKBNRQN w KQkq - 0 1|167     |295  |0.5661016949152542|\n",
      "|bbrkqnrn/pppppppp/8/8/8/8/PPPPPPPP/BBRKQNRN w KQkq - 0 1|155     |275  |0.5636363636363636|\n",
      "|rqkbrnbn/pppppppp/8/8/8/8/PPPPPPPP/RQKBRNBN w KQkq - 0 1|193     |343  |0.5626822157434402|\n",
      "|rknrnqbb/pppppppp/8/8/8/8/PPPPPPPP/RKNRNQBB w KQkq - 0 1|158     |285  |0.5543859649122806|\n",
      "|rkbbrnnq/pppppppp/8/8/8/8/PPPPPPPP/RKBBRNNQ w KQkq - 0 1|170     |307  |0.5537459283387622|\n",
      "|brqnnbkr/pppppppp/8/8/8/8/PPPPPPPP/BRQNNBKR w KQkq - 0 1|171     |309  |0.5533980582524272|\n",
      "|bbrnqknr/pppppppp/8/8/8/8/PPPPPPPP/BBRNQKNR w KQkq - 0 1|158     |286  |0.5524475524475524|\n",
      "|qrbknrnb/pppppppp/8/8/8/8/PPPPPPPP/QRBKNRNB w KQkq - 0 1|177     |321  |0.5514018691588785|\n",
      "|rknqbbnr/pppppppp/8/8/8/8/PPPPPPPP/RKNQBBNR w KQkq - 0 1|174     |316  |0.5506329113924051|\n",
      "|qbnrbknr/pppppppp/8/8/8/8/PPPPPPPP/QBNRBKNR w KQkq - 0 1|165     |300  |0.55              |\n",
      "|nnbbrkqr/pppppppp/8/8/8/8/PPPPPPPP/NNBBRKQR w KQkq - 0 1|155     |282  |0.549645390070922 |\n",
      "|rbbkqrnn/pppppppp/8/8/8/8/PPPPPPPP/RBBKQRNN w KQkq - 0 1|162     |295  |0.5491525423728814|\n",
      "|nrnbbkrq/pppppppp/8/8/8/8/PPPPPPPP/NRNBBKRQ w KQkq - 0 1|175     |320  |0.546875          |\n",
      "|qbrnbknr/pppppppp/8/8/8/8/PPPPPPPP/QBRNBKNR w KQkq - 0 1|175     |320  |0.546875          |\n",
      "+--------------------------------------------------------+--------+-----+------------------+\n",
      "only showing top 20 rows\n",
      "\n"
     ]
    }
   ],
   "source": [
    "df_All = percentageSummary(df,0,0)\n",
    "df_All.show(truncate = False)"
   ]
  },
  {
   "cell_type": "code",
   "execution_count": null,
   "metadata": {},
   "outputs": [],
   "source": []
  }
 ],
 "metadata": {
  "kernelspec": {
   "display_name": "Python 3",
   "language": "python",
   "name": "python3"
  },
  "language_info": {
   "codemirror_mode": {
    "name": "ipython",
    "version": 3
   },
   "file_extension": ".py",
   "mimetype": "text/x-python",
   "name": "python",
   "nbconvert_exporter": "python",
   "pygments_lexer": "ipython3",
   "version": "3.7.4"
  }
 },
 "nbformat": 4,
 "nbformat_minor": 2
}
